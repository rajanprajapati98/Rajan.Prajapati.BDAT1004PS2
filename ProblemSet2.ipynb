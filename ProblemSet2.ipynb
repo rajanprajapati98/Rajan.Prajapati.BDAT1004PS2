{
  "metadata": {
    "kernelspec": {
      "name": "python",
      "display_name": "Python (Pyodide)",
      "language": "python"
    },
    "language_info": {
      "codemirror_mode": {
        "name": "python",
        "version": 3
      },
      "file_extension": ".py",
      "mimetype": "text/x-python",
      "name": "python",
      "nbconvert_exporter": "python",
      "pygments_lexer": "ipython3",
      "version": "3.8"
    },
    "vscode": {
      "interpreter": {
        "hash": "369f2c481f4da34e4445cda3fffd2e751bd1c4d706f27375911949ba6bb62e1c"
      }
    }
  },
  "nbformat_minor": 4,
  "nbformat": 4,
  "cells": [
    {
      "cell_type": "markdown",
      "source": "Question 1",
      "metadata": {}
    },
    {
      "cell_type": "code",
      "source": "a = 0\ndef b():\n    global a\n    a = c(a)\ndef c(a):\n    return a + 2",
      "metadata": {
        "trusted": true
      },
      "execution_count": 1,
      "outputs": []
    },
    {
      "cell_type": "code",
      "source": "b()             # a = 0 changed to a = 2, called c(0) which retured 2\nb()             # a = 2 changed to a = 4, called c(2) which retured 4\nb()             # a = 4 changed to a = 6, called c(4) which retured 6\na               # printing value of a",
      "metadata": {
        "trusted": true
      },
      "execution_count": 2,
      "outputs": [
        {
          "execution_count": 2,
          "output_type": "execute_result",
          "data": {
            "text/plain": "6"
          },
          "metadata": {}
        }
      ]
    },
    {
      "cell_type": "markdown",
      "source": "Question 2",
      "metadata": {}
    },
    {
      "cell_type": "code",
      "source": "import os\nfileLength = 'C:/Rajan_Assignment/Problem_Set_2/midtermm.txt'\n \nnum_words = 0\n\nisExist = os.path.exists(fileLength)\nprint(isExist)\n\nif ( isExist == True ): \n    with open(fileLength, 'r') as f:\n        for line in f:\n            words = line.split()\n            num_words += len(words)\n    print(\"Number of words:\")\n    print(num_words)\n\nelse:\n    print(\"The fil not found!!\")",
      "metadata": {
        "trusted": true
      },
      "execution_count": 3,
      "outputs": [
        {
          "name": "stdout",
          "text": "False\nThe fil not found!!\n",
          "output_type": "stream"
        }
      ]
    },
    {
      "cell_type": "markdown",
      "source": "Question 3",
      "metadata": {}
    },
    {
      "cell_type": "code",
      "source": "class Marsupial:\n  ary = []\n  def __init__(self):\n    self.ary = []\n  def put_in_pouch(self, element):\n    self.ary.append(element)\n  def pouch_contents(self):\n    print(self.ary)\n\nm = Marsupial()\nm.put_in_pouch('doll')\nm.put_in_pouch('firetruck')\nm.put_in_pouch('kitten')\nm.pouch_contents()",
      "metadata": {
        "trusted": true
      },
      "execution_count": 4,
      "outputs": [
        {
          "name": "stdout",
          "text": "['doll', 'firetruck', 'kitten']\n",
          "output_type": "stream"
        }
      ]
    },
    {
      "cell_type": "code",
      "source": "class Kangaroo(Marsupial):\n    x = 0\n    y = 0\n    def __init__(self, x, y):\n        super().__init__()\n        self.x = x\n        self.y = y\n    def jump(self, dx, dy):\n        self.x = self.x + dx\n        self.y = self.y + dy\n    def __str__(self):\n        return f\"I am a Kangaroo located at coordinates ({self.x},{self.y})\"  \n        \nk = Kangaroo(0,0)\nprint(k)\nk.put_in_pouch('doll')\nk.put_in_pouch('firetruck')\nk.put_in_pouch('kitten')\nk.pouch_contents()\nk.jump(1,0)\nk.jump(1,0)\nk.jump(1,0)\nprint(k)",
      "metadata": {
        "trusted": true
      },
      "execution_count": 5,
      "outputs": [
        {
          "name": "stdout",
          "text": "I am a Kangaroo located at coordinates (0,0)\n['doll', 'firetruck', 'kitten']\nI am a Kangaroo located at coordinates (3,0)\n",
          "output_type": "stream"
        }
      ]
    },
    {
      "cell_type": "markdown",
      "source": "Question 4",
      "metadata": {}
    },
    {
      "cell_type": "code",
      "source": "def collatz(x:int):\n    if x == 1:                          # when x is 1, stop recursion \n        print(1)\n    elif x%2 == 0:                      # when x is even \n        print(x)\n        collatz(int(x/2))               \n    elif x%2 != 0:                      # when x is odd \n        print(x)\n        return collatz(int(3*x + 1))",
      "metadata": {
        "trusted": true
      },
      "execution_count": 2,
      "outputs": []
    },
    {
      "cell_type": "code",
      "source": "collatz(1)",
      "metadata": {
        "trusted": true
      },
      "execution_count": 3,
      "outputs": [
        {
          "name": "stdout",
          "text": "1\n",
          "output_type": "stream"
        }
      ]
    },
    {
      "cell_type": "code",
      "source": "collatz(10)",
      "metadata": {
        "trusted": true
      },
      "execution_count": 4,
      "outputs": [
        {
          "name": "stdout",
          "text": "10\n5\n16\n8\n4\n2\n1\n",
          "output_type": "stream"
        }
      ]
    },
    {
      "cell_type": "markdown",
      "source": "Question 5 ",
      "metadata": {}
    },
    {
      "cell_type": "code",
      "source": "def binary(n):\n...   if n < 2:\n...     return [n]\n...   else:\n...     return binary(n / 2) + [n % 2]",
      "metadata": {
        "trusted": true
      },
      "execution_count": 5,
      "outputs": []
    },
    {
      "cell_type": "code",
      "source": "binary(0)",
      "metadata": {
        "trusted": true
      },
      "execution_count": 6,
      "outputs": [
        {
          "execution_count": 6,
          "output_type": "execute_result",
          "data": {
            "text/plain": "[0]"
          },
          "metadata": {}
        }
      ]
    },
    {
      "cell_type": "code",
      "source": "binary(1)",
      "metadata": {
        "trusted": true
      },
      "execution_count": 7,
      "outputs": [
        {
          "execution_count": 7,
          "output_type": "execute_result",
          "data": {
            "text/plain": "[1]"
          },
          "metadata": {}
        }
      ]
    },
    {
      "cell_type": "code",
      "source": "binary(3)",
      "metadata": {
        "trusted": true
      },
      "execution_count": 8,
      "outputs": [
        {
          "execution_count": 8,
          "output_type": "execute_result",
          "data": {
            "text/plain": "[1.5, 1]"
          },
          "metadata": {}
        }
      ]
    },
    {
      "cell_type": "code",
      "source": "binary(9)",
      "metadata": {
        "trusted": true
      },
      "execution_count": 9,
      "outputs": [
        {
          "execution_count": 9,
          "output_type": "execute_result",
          "data": {
            "text/plain": "[1.125, 0.25, 0.5, 1]"
          },
          "metadata": {}
        }
      ]
    },
    {
      "cell_type": "markdown",
      "source": "Question 6",
      "metadata": {}
    },
    {
      "cell_type": "code",
      "source": "from html.parser import HTMLParser                  #https://docs.python.org/3/library/html.parser.html\nclass HeadingParser(HTMLParser):\n    tag = \"\"\n    def handle_starttag(self, tag, attrs):\n        if tag == \"h1\" or \"h2\" or \"h3\" or \"h4\" or \"h5\" or \"h6\":\n            self.tag = tag\n            #print(\"Encountered a start tag:\", tag)\n    def handle_data(self, data: str) -> None:\n        if self.tag == \"h1\":\n            print(data)\n        elif self.tag == \"h2\":\n            print(\"\\t\", data)\n        elif self.tag == \"h3\":\n            print(\"\\t\\t\", data)\n        elif self.tag == \"h4\":\n            print(\"\\t\\t\\t\", data)\n        elif self.tag == \"h5\":\n            print(\"\\t\\t\\t\\t\", data)\n        elif self.tag == \"h6\":\n            print(\"\\t\\t\\t\\t\\t\", data)\n    def handle_endtag(self, tag: str) -> None:\n        if tag == \"h1\" or \"h2\" or \"h3\" or \"h4\" or \"h5\" or \"h6\":\n            self.tag = \"\"\n            #print(\"Encountered an end tag:\", tag)\n",
      "metadata": {
        "trusted": true
      },
      "execution_count": 14,
      "outputs": []
    },
    {
      "cell_type": "code",
      "source": "infile = open(r'C:\\Users\\rajan\\Downloads\\w3c.html')\ncontent = infile.read()\ninfile.close()\nhp = HeadingParser()\nhp.feed(content)",
      "metadata": {
        "trusted": true
      },
      "execution_count": 6,
      "outputs": [
        {
          "ename": "<class 'FileNotFoundError'>",
          "evalue": "[Errno 44] No such file or directory: 'w3c.html'",
          "traceback": [
            "\u001b[0;31m---------------------------------------------------------------------------\u001b[0m",
            "\u001b[0;31mFileNotFoundError\u001b[0m                         Traceback (most recent call last)",
            "Cell \u001b[0;32mIn [8], line 1\u001b[0m\n\u001b[0;32m----> 1\u001b[0m infile \u001b[38;5;241m=\u001b[39m \u001b[38;5;28;43mopen\u001b[39;49m\u001b[43m(\u001b[49m\u001b[38;5;124;43m'\u001b[39;49m\u001b[38;5;124;43mw3c.html\u001b[39;49m\u001b[38;5;124;43m'\u001b[39;49m\u001b[43m)\u001b[49m\n\u001b[1;32m      2\u001b[0m content \u001b[38;5;241m=\u001b[39m infile\u001b[38;5;241m.\u001b[39mread()\n\u001b[1;32m      3\u001b[0m infile\u001b[38;5;241m.\u001b[39mclose()\n",
            "File \u001b[0;32m/lib/python3.10/site-packages/IPython/core/interactiveshell.py:282\u001b[0m, in \u001b[0;36m_modified_open\u001b[0;34m(file, *args, **kwargs)\u001b[0m\n\u001b[1;32m    275\u001b[0m \u001b[38;5;28;01mif\u001b[39;00m file \u001b[38;5;129;01min\u001b[39;00m {\u001b[38;5;241m0\u001b[39m, \u001b[38;5;241m1\u001b[39m, \u001b[38;5;241m2\u001b[39m}:\n\u001b[1;32m    276\u001b[0m     \u001b[38;5;28;01mraise\u001b[39;00m \u001b[38;5;167;01mValueError\u001b[39;00m(\n\u001b[1;32m    277\u001b[0m         \u001b[38;5;124mf\u001b[39m\u001b[38;5;124m\"\u001b[39m\u001b[38;5;124mIPython won\u001b[39m\u001b[38;5;124m'\u001b[39m\u001b[38;5;124mt let you open fd=\u001b[39m\u001b[38;5;132;01m{\u001b[39;00mfile\u001b[38;5;132;01m}\u001b[39;00m\u001b[38;5;124m by default \u001b[39m\u001b[38;5;124m\"\u001b[39m\n\u001b[1;32m    278\u001b[0m         \u001b[38;5;124m\"\u001b[39m\u001b[38;5;124mas it is likely to crash IPython. If you know what you are doing, \u001b[39m\u001b[38;5;124m\"\u001b[39m\n\u001b[1;32m    279\u001b[0m         \u001b[38;5;124m\"\u001b[39m\u001b[38;5;124myou can use builtins\u001b[39m\u001b[38;5;124m'\u001b[39m\u001b[38;5;124m open.\u001b[39m\u001b[38;5;124m\"\u001b[39m\n\u001b[1;32m    280\u001b[0m     )\n\u001b[0;32m--> 282\u001b[0m \u001b[38;5;28;01mreturn\u001b[39;00m io_open(file, \u001b[38;5;241m*\u001b[39margs, \u001b[38;5;241m*\u001b[39m\u001b[38;5;241m*\u001b[39mkwargs)\n",
            "\u001b[0;31mFileNotFoundError\u001b[0m: [Errno 44] No such file or directory: 'w3c.html'"
          ],
          "output_type": "error"
        }
      ]
    },
    {
      "cell_type": "markdown",
      "source": "Question 7",
      "metadata": {}
    },
    {
      "cell_type": "code",
      "source": "from bs4 import BeautifulSoup\nimport requests\n\n# lists\nurls=[]\n\n# function created\ndef scrape(site):\n\t\n\t# getting the request from url\n\tr = requests.get(site)\n\t\n\t# converting the text\n\ts = BeautifulSoup(r.text,\"html.parser\")\n\t\n\tfor i in s.find_all(\"a\"):\n\t\t\n\t\thref = i.attrs['href']\n\t\t\n\t\tif href.startswith(\"/\"):\n\t\t\tsite = site+href\n\t\t\t\n\t\t\tif site not in urls:\n\t\t\t\turls.append(site)\n\t\t\t\tprint(site)\n\t\t\t\t# calling it self\n\t\t\t\tscrape(site)\n\n# main function\nif __name__ ==\"__main__\":\n\n\t# website to be scrape\n\tsite=\"http://example.webscraping.com//\"\n\n\t# calling function\n\tscrape(site)",
      "metadata": {
        "trusted": true
      },
      "execution_count": 15,
      "outputs": [
        {
          "ename": "<class 'ModuleNotFoundError'>",
          "evalue": "No module named 'requests'",
          "traceback": [
            "\u001b[0;31m---------------------------------------------------------------------------\u001b[0m",
            "\u001b[0;31mModuleNotFoundError\u001b[0m                       Traceback (most recent call last)",
            "Cell \u001b[0;32mIn [15], line 2\u001b[0m\n\u001b[1;32m      1\u001b[0m \u001b[38;5;28;01mfrom\u001b[39;00m \u001b[38;5;21;01mbs4\u001b[39;00m \u001b[38;5;28;01mimport\u001b[39;00m BeautifulSoup\n\u001b[0;32m----> 2\u001b[0m \u001b[38;5;28;01mimport\u001b[39;00m \u001b[38;5;21;01mrequests\u001b[39;00m\n\u001b[1;32m      4\u001b[0m \u001b[38;5;66;03m# lists\u001b[39;00m\n\u001b[1;32m      5\u001b[0m urls\u001b[38;5;241m=\u001b[39m[]\n",
            "\u001b[0;31mModuleNotFoundError\u001b[0m: No module named 'requests'"
          ],
          "output_type": "error"
        }
      ]
    },
    {
      "cell_type": "code",
      "source": "Question 8",
      "metadata": {},
      "execution_count": null,
      "outputs": []
    },
    {
      "cell_type": "code",
      "source": "a) Select temperature from TABLE_NAME\nb)Select distinct City from TABLE_NAME\nc) Select * from TABLE_NAME where Country = 'India'\nd) Select * from TABLE_NAME where Season= 'Fall'\ne) Select City,Country,Season from TABLE_NAME where RainFall BETWEEN 200 and 400\nf) Select City,Country from TABLE_NAME where Season = 'Fall' and Temperature > 20 order by Temperature ase\ng) Select  SUM(RainFall) AS \"RainFall\" where City='Cairo'\nh)  Select  SUM(RainFall) AS \"RainFall\" where Season ='Winter';Select  SUM(RainFall) AS \"RainFall\" where Season ='Fall';Select  SUM(RainFall) AS \"RainFall\" where Season ='Spring';Select  SUM(RainFall) AS \"RainFall\" where Season ='Summer'",
      "metadata": {},
      "execution_count": null,
      "outputs": []
    },
    {
      "cell_type": "markdown",
      "source": "Question 9",
      "metadata": {}
    },
    {
      "cell_type": "code",
      "source": "words = ['The', 'quick', 'brown', 'fox', 'jumps', 'over', 'the', 'lazy', 'dog']",
      "metadata": {
        "trusted": true
      },
      "execution_count": 13,
      "outputs": []
    },
    {
      "cell_type": "code",
      "source": "upperWords = [x.upper() for x in words]             #converting words of the list to uppercase \nprint(upperWords)\n\nlowerWords = [x.lower() for x in words]             #converting words of the list to lowercase\nprint(lowerWords)\n\nlengthWords = [x.__len__() for x in words]          #expression for storing length of words of the list\nprint(lengthWords)\n\nnestedWords = [ [x.upper(), x.lower(), x.__len__()] for x in words ]            #expression with multiple attributes\nprint(nestedWords)\n\nconditionWords = [x for x in words if x.__len__() >=4 ]             #if condition to filter words of length 4 or more\nprint(conditionWords)",
      "metadata": {
        "trusted": true
      },
      "execution_count": 14,
      "outputs": [
        {
          "name": "stdout",
          "text": "['THE', 'QUICK', 'BROWN', 'FOX', 'JUMPS', 'OVER', 'THE', 'LAZY', 'DOG']\n['the', 'quick', 'brown', 'fox', 'jumps', 'over', 'the', 'lazy', 'dog']\n[3, 5, 5, 3, 5, 4, 3, 4, 3]\n[['THE', 'the', 3], ['QUICK', 'quick', 5], ['BROWN', 'brown', 5], ['FOX', 'fox', 3], ['JUMPS', 'jumps', 5], ['OVER', 'over', 4], ['THE', 'the', 3], ['LAZY', 'lazy', 4], ['DOG', 'dog', 3]]\n['quick', 'brown', 'jumps', 'over', 'lazy']\n",
          "output_type": "stream"
        }
      ]
    },
    {
      "cell_type": "code",
      "source": "",
      "metadata": {},
      "execution_count": null,
      "outputs": []
    },
    {
      "cell_type": "code",
      "source": "",
      "metadata": {},
      "execution_count": null,
      "outputs": []
    },
    {
      "cell_type": "code",
      "source": "",
      "metadata": {},
      "execution_count": null,
      "outputs": []
    }
  ]
}